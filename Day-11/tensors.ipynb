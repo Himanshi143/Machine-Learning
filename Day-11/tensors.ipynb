{
  "nbformat": 4,
  "nbformat_minor": 0,
  "metadata": {
    "colab": {
      "provenance": [],
      "authorship_tag": "ABX9TyMnSP99c7pkXLxZJ1tw2EfB",
      "include_colab_link": true
    },
    "kernelspec": {
      "name": "python3",
      "display_name": "Python 3"
    },
    "language_info": {
      "name": "python"
    }
  },
  "cells": [
    {
      "cell_type": "markdown",
      "metadata": {
        "id": "view-in-github",
        "colab_type": "text"
      },
      "source": [
        "<a href=\"https://colab.research.google.com/github/Himanshi143/Machine-Learning-By-Campusx/blob/main/Day-11/tensors.ipynb\" target=\"_parent\"><img src=\"https://colab.research.google.com/assets/colab-badge.svg\" alt=\"Open In Colab\"/></a>"
      ]
    },
    {
      "cell_type": "code",
      "execution_count": 1,
      "metadata": {
        "id": "mDN2pj6W6383"
      },
      "outputs": [],
      "source": [
        "import numpy as np"
      ]
    },
    {
      "cell_type": "markdown",
      "source": [
        "0D/SCALAR"
      ],
      "metadata": {
        "id": "Xe9j6KTg7QuT"
      }
    },
    {
      "cell_type": "code",
      "source": [
        "arr=np.array(2)\n",
        "print(arr)\n",
        "print(\"Dimension:\",arr.ndim)"
      ],
      "metadata": {
        "colab": {
          "base_uri": "https://localhost:8080/"
        },
        "id": "prqGiXNJ7BRN",
        "outputId": "556dd4df-5a46-4884-f309-b7dc590583d4"
      },
      "execution_count": 4,
      "outputs": [
        {
          "output_type": "stream",
          "name": "stdout",
          "text": [
            "2\n",
            "Dimension: 0\n"
          ]
        }
      ]
    },
    {
      "cell_type": "markdown",
      "source": [
        "1D/VECTOR"
      ],
      "metadata": {
        "id": "u0ccsC6q7TX2"
      }
    },
    {
      "cell_type": "code",
      "source": [
        "arr=np.array([2,3])\n",
        "print(arr)\n",
        "print(\"Dimension:\",arr.ndim)"
      ],
      "metadata": {
        "colab": {
          "base_uri": "https://localhost:8080/"
        },
        "id": "VFrREU8P7FfR",
        "outputId": "bee9ffde-9e75-4235-a80e-69e588baa6f0"
      },
      "execution_count": 5,
      "outputs": [
        {
          "output_type": "stream",
          "name": "stdout",
          "text": [
            "[2 3]\n",
            "Dimension: 1\n"
          ]
        }
      ]
    },
    {
      "cell_type": "markdown",
      "source": [
        "2D/MATRICES"
      ],
      "metadata": {
        "id": "HplCCdXw7g4e"
      }
    },
    {
      "cell_type": "code",
      "source": [
        "arr=np.array([[1,2,3],[2,3,4]])\n",
        "print(arr)\n",
        "print(\"Dimension:\",arr.ndim)"
      ],
      "metadata": {
        "colab": {
          "base_uri": "https://localhost:8080/"
        },
        "id": "U828Wk8Q7XH8",
        "outputId": "6303b706-017d-41cd-cc13-13cc81200082"
      },
      "execution_count": 6,
      "outputs": [
        {
          "output_type": "stream",
          "name": "stdout",
          "text": [
            "[[1 2 3]\n",
            " [2 3 4]]\n",
            "Dimension: 2\n"
          ]
        }
      ]
    },
    {
      "cell_type": "markdown",
      "source": [
        "3D"
      ],
      "metadata": {
        "id": "u6D98cza7t4y"
      }
    },
    {
      "cell_type": "code",
      "source": [
        "arr=np.array([[[1,2,3],[2,3,4]],[[1,2,3],[2,3,4]]])\n",
        "print(arr)\n",
        "print(\"Dimension:\",arr.ndim)"
      ],
      "metadata": {
        "colab": {
          "base_uri": "https://localhost:8080/"
        },
        "id": "MYCPOfi37flZ",
        "outputId": "79ee28de-1d3b-417d-dccc-e89434951d34"
      },
      "execution_count": 7,
      "outputs": [
        {
          "output_type": "stream",
          "name": "stdout",
          "text": [
            "[[[1 2 3]\n",
            "  [2 3 4]]\n",
            "\n",
            " [[1 2 3]\n",
            "  [2 3 4]]]\n",
            "Dimension: 3\n"
          ]
        }
      ]
    },
    {
      "cell_type": "code",
      "source": [],
      "metadata": {
        "id": "iUdiP8IY7sf2"
      },
      "execution_count": null,
      "outputs": []
    }
  ]
}